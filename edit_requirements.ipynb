{
 "cells": [
  {
   "cell_type": "code",
   "execution_count": 1,
   "id": "86355bd0",
   "metadata": {},
   "outputs": [],
   "source": [
    "import pandas as pd\n",
    "import numpy as np"
   ]
  },
  {
   "cell_type": "code",
   "execution_count": 15,
   "id": "f76592e6",
   "metadata": {},
   "outputs": [],
   "source": [
    "data=pd.read_fwf('requirements_raw.txt', sep=' ',\\\n",
    "                skiprows=3,header=None) "
   ]
  },
  {
   "cell_type": "code",
   "execution_count": 21,
   "id": "9e4d4946",
   "metadata": {},
   "outputs": [],
   "source": [
    "packages=data[[0]].values"
   ]
  },
  {
   "cell_type": "code",
   "execution_count": 33,
   "id": "74b4b375",
   "metadata": {
    "scrolled": false
   },
   "outputs": [],
   "source": [
    "with open('requirements.txt', 'w') as f:\n",
    "        for p in packages:\n",
    "            pname = p.item().split(' ')[0]\n",
    "            vname = p.item().split(' ')[-1]\n",
    "            f.write('{}=={}'.format(pname,vname))\n",
    "            f.write('\\n')"
   ]
  },
  {
   "cell_type": "code",
   "execution_count": 31,
   "id": "4b623a77",
   "metadata": {},
   "outputs": [
    {
     "data": {
      "text/plain": [
       "['zstd', '', '', '', '', '', '', ' 1.5.2']"
      ]
     },
     "execution_count": 31,
     "metadata": {},
     "output_type": "execute_result"
    }
   ],
   "source": [
    "p.item().split('   ')"
   ]
  },
  {
   "cell_type": "code",
   "execution_count": null,
   "id": "bfeb7ce4",
   "metadata": {},
   "outputs": [],
   "source": []
  }
 ],
 "metadata": {
  "kernelspec": {
   "display_name": "Python 3 (ipykernel)",
   "language": "python",
   "name": "python3"
  },
  "language_info": {
   "codemirror_mode": {
    "name": "ipython",
    "version": 3
   },
   "file_extension": ".py",
   "mimetype": "text/x-python",
   "name": "python",
   "nbconvert_exporter": "python",
   "pygments_lexer": "ipython3",
   "version": "3.10.10"
  }
 },
 "nbformat": 4,
 "nbformat_minor": 5
}
